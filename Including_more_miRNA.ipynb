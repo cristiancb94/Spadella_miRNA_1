{
 "cells": [
  {
   "cell_type": "markdown",
   "id": "21b4d76c-6d6d-4e7d-8db1-c14b4e92f0e3",
   "metadata": {},
   "source": [
    "## miRdeep 2 (usin all the data)\n",
    "\n",
    "We decided to include all the miRNA (under 50nt) (also the unkwown from miRBase)\n",
    "\n",
    "The ouptut containig all the miRNA was formated for miRDEEP2 using: preparing_fasta.py\n",
    "\n",
    "Which runs using: python preparing_fasta.py input.fasta output.fa\r\n"
   ]
  },
  {
   "cell_type": "code",
   "execution_count": null,
   "id": "57918342-8ee7-4f40-bf1d-6d6b19ab7e70",
   "metadata": {},
   "outputs": [],
   "source": [
    "#!/usr/bin/env python3\n",
    "\n",
    "import sys\n",
    "\n",
    "def truncate_headers(input_fasta, output_fasta):\n",
    "    with open(input_fasta, 'r') as infile, open(output_fasta, 'w') as outfile:\n",
    "        for line in infile:\n",
    "            line = line.rstrip(\"\\n\")\n",
    "            # If this is a header line:\n",
    "            if line.startswith('>'):\n",
    "                # Split the header on whitespace and take just the first chunk\n",
    "                header = line.split()[0]\n",
    "                outfile.write(header + \"\\n\")\n",
    "            else:\n",
    "                # Otherwise, it is a sequence line, so just write it back\n",
    "                outfile.write(line + \"\\n\")\n",
    "\n",
    "def main():\n",
    "    if len(sys.argv) < 3:\n",
    "        print(\"Usage: {} input_fasta output_fasta\".format(sys.argv[0]))\n",
    "        sys.exit(1)\n",
    "    \n",
    "    input_fasta  = sys.argv[1]\n",
    "    output_fasta = sys.argv[2]\n",
    "    \n",
    "    truncate_headers(input_fasta, output_fasta)\n",
    "\n",
    "if __name__ == \"__main__\":\n",
    "    main()\n"
   ]
  }
 ],
 "metadata": {
  "kernelspec": {
   "display_name": "Python 3 (ipykernel)",
   "language": "python",
   "name": "python3"
  },
  "language_info": {
   "codemirror_mode": {
    "name": "ipython",
    "version": 3
   },
   "file_extension": ".py",
   "mimetype": "text/x-python",
   "name": "python",
   "nbconvert_exporter": "python",
   "pygments_lexer": "ipython3",
   "version": "3.12.4"
  }
 },
 "nbformat": 4,
 "nbformat_minor": 5
}
